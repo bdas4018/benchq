{
 "cells": [
  {
   "cell_type": "markdown",
   "id": "f63083b2",
   "metadata": {},
   "source": [
    "# Peter Love Project: Counting #of T-gates\n"
   ]
  },
  {
   "cell_type": "markdown",
   "id": "bbe7ef87",
   "metadata": {},
   "source": [
    "### Using n_t_gates (which counts #T-gates in a QuantumProgram which is a efficient way of storing Orquestra Ckt.)"
   ]
  },
  {
   "cell_type": "code",
   "execution_count": 7,
   "id": "3736c8f6",
   "metadata": {},
   "outputs": [],
   "source": [
    "from benchq.conversions import import_circuit, export_circuit\n",
    "from qiskit import QuantumCircuit\n",
    "from benchq.data_structures import QuantumProgram\n",
    "from benchq.compilation import get_algorithmic_graph_from_Jabalizer, pyliqtr_transpile_to_clifford_t\n"
   ]
  },
  {
   "cell_type": "code",
   "execution_count": 10,
   "id": "d59528f3",
   "metadata": {},
   "outputs": [
    {
     "name": "stdout",
     "output_type": "stream",
     "text": [
      "Number of T-gates before transpiling into Clifford + T gate-set: 0\n",
      "Circuit(operations=[H(0), S†(0), H(0), S(0), T(0), H(0), S(0), T(0), H(0), T(0), H(0), T(0), H(0), S(0), T(0), H(0), T(0), H(0), T(0), H(0), T(0), H(0), S(0), T(0), H(0), S(0), T(0), H(0), T(0), H(0), T(0), H(0), S(0), T(0), H(0), T(0), H(0), T(0), H(0), T(0), H(0), T(0), H(0), S(0), T(0), H(0), T(0), H(0), S(0), T(0), H(0), S(0), T(0), H(0), T(0), H(0), S(0), T(0), H(0), T(0), H(0), T(0), H(0), T(0), H(0), T(0), H(0), T(0), H(0), T(0), H(0), S(0), T(0), H(0), S(0), T(0), H(0), S(0), T(0), H(0), S(0), T(0), H(0), T(0), H(0), T(0), H(0), T(0), H(0), S(0), T(0), H(0), S(0), T(0), H(0), T(0), H(0), T(0), H(0), T(0), H(0), S(0), T(0), H(0), S(0), T(0), H(0), T(0), H(0), S(0), T(0), H(0), S(0), T(0), H(0), T(0), H(0), S(0), T(0), H(0), S(0), T(0), H(0), S(0), T(0), H(0), T(0), H(0), S(0), T(0), H(0), T(0), H(0), T(0), H(0), T(0), H(0), S(0), T(0), H(0), S(0), T(0), H(0), S(0), T(0), H(0), S(0), T(0), H(0), T(0), H(0), T(0), H(0), S(0), T(0)], n_qubits=4)\n",
      "Number of T-gates after transpiling into Clifford + T gate set: 62\n"
     ]
    },
    {
     "name": "stderr",
     "output_type": "stream",
     "text": [
      "/home/bdas23/.local/lib/python3.10/site-packages/pyLIQTR/gate_decomp/cirq_transforms.py:519: RuntimeWarning: H is not a rotation gate, cannot decompose. Set warn_if_not_decomposed=False to silence this warning.\n",
      "  warnings.warn(\n"
     ]
    }
   ],
   "source": [
    "file_name=\"data/single_rotation.qasm\"\n",
    "qc1 = QuantumCircuit.from_qasm_file(file_name)\n",
    "\n",
    "# QuantumProgram stores an orquestra circuit efficiently\n",
    "program=QuantumProgram.from_circuit(import_circuit(qc1))\n",
    "\n",
    "    \n",
    "count= program.n_t_gates\n",
    "print(\"Number of T-gates before transpiling into Clifford + T gate-set:\", count)\n",
    "\n",
    "# Transpiling:\n",
    "clifford_t_circuit = pyliqtr_transpile_to_clifford_t(\n",
    "qc1, circuit_precision=1e-6)\n",
    "print(clifford_t_circuit)\n",
    "program1=QuantumProgram.from_circuit(clifford_t_circuit)\n",
    "count1=program1.n_t_gates\n",
    "\n",
    "\n",
    "print(\"Number of T-gates after transpiling into Clifford + T gate set:\", count1)\n",
    " \n"
   ]
  },
  {
   "cell_type": "markdown",
   "id": "2de76281",
   "metadata": {},
   "source": [
    "### Exporting the transpiled Orquestra Ckt. to Qiskit and using count_ops() method in Qiskit to count Quantum operators in a Qiskit Ckt."
   ]
  },
  {
   "cell_type": "code",
   "execution_count": 17,
   "id": "40e72d15",
   "metadata": {},
   "outputs": [
    {
     "name": "stdout",
     "output_type": "stream",
     "text": [
      "62\n"
     ]
    }
   ],
   "source": [
    "from qiskit import QuantumCircuit as QiskitCircuit\n",
    "qc1=export_circuit(QiskitCircuit, clifford_t_circuit)\n",
    "all_ops=(dict(qc1.count_ops()))\n",
    "count=all_ops['t']\n",
    "print(count)"
   ]
  },
  {
   "cell_type": "code",
   "execution_count": 20,
   "id": "eb1b6f82",
   "metadata": {},
   "outputs": [
    {
     "name": "stdout",
     "output_type": "stream",
     "text": [
      "62\n"
     ]
    }
   ],
   "source": [
    "from orquestra.integrations.qiskit.conversions import export_to_qiskit\n",
    "qc2=export_to_qiskit(clifford_t_circuit)\n",
    "all_ops=(dict(qc2.count_ops()))\n",
    "count=all_ops['t']\n",
    "print(count)"
   ]
  },
  {
   "cell_type": "code",
   "execution_count": null,
   "id": "160507b4",
   "metadata": {},
   "outputs": [],
   "source": []
  }
 ],
 "metadata": {
  "kernelspec": {
   "display_name": "Python 3 (ipykernel)",
   "language": "python",
   "name": "python3"
  },
  "language_info": {
   "codemirror_mode": {
    "name": "ipython",
    "version": 3
   },
   "file_extension": ".py",
   "mimetype": "text/x-python",
   "name": "python",
   "nbconvert_exporter": "python",
   "pygments_lexer": "ipython3",
   "version": "3.10.6"
  }
 },
 "nbformat": 4,
 "nbformat_minor": 5
}
